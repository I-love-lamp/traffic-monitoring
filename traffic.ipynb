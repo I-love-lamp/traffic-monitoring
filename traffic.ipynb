{
 "cells": [
  {
   "cell_type": "markdown",
   "metadata": {},
   "source": [
    "# Exploration of TII WIM traffic data\n",
    "# Intro and motivations\n",
    "The intent of this study is to identify patterns of traffic flow to inform traffic management authorities of possible issues."
   ]
  },
  {
   "cell_type": "code",
   "execution_count": 31,
   "metadata": {},
   "outputs": [],
   "source": [
    "# get the data\n",
    "import pandas as pd\n",
    "\n",
    "weekly_cars = pd.read_csv('data/THA21.20230103120743.csv')\n",
    "weekly_cars.head(5)\n",
    "weekly_hgv = pd.read_csv('data/THA22.20230103123921.csv')"
   ]
  },
  {
   "cell_type": "code",
   "execution_count": 29,
   "metadata": {},
   "outputs": [
    {
     "data": {
      "text/plain": [
       "STATISTIC  Statistic Label                TLIST(W1)  Year  C03910V04662  Transport Traffic Site             C01198V01436  Weeks of the year  UNIT    VALUE   \n",
       "THA21C01   Average weekly volume of cars  2019       2019  10            Selected traffic sites - Dublin    1             Week 01            Number  463064.0    1\n",
       "                                          2021       2021  20            Selected traffic sites - Regional  7             Week 07            Number  95426.0     1\n",
       "                                                                                                            17            Week 17            Number  133817.0    1\n",
       "                                                                                                            16            Week 16            Number  131971.0    1\n",
       "                                                                                                            15            Week 15            Number  129277.0    1\n",
       "                                                                                                                                                                ..\n",
       "                                          2020       2020  10            Selected traffic sites - Dublin    30            Week 30            Number  473671.0    1\n",
       "                                                                                                            29            Week 29            Number  471550.0    1\n",
       "                                                                                                            28            Week 28            Number  463106.0    1\n",
       "                                                                                                            27            Week 27            Number  449555.0    1\n",
       "                                          2022       2022  20            Selected traffic sites - Regional  47            Week 47            Number  180752.0    1\n",
       "Length: 408, dtype: int64"
      ]
     },
     "execution_count": 29,
     "metadata": {},
     "output_type": "execute_result"
    }
   ],
   "source": [
    "weekly_cars.shape\n",
    "weekly_cars.value_counts()"
   ]
  },
  {
   "cell_type": "code",
   "execution_count": 35,
   "metadata": {},
   "outputs": [
    {
     "data": {
      "text/html": [
       "<div>\n",
       "<style scoped>\n",
       "    .dataframe tbody tr th:only-of-type {\n",
       "        vertical-align: middle;\n",
       "    }\n",
       "\n",
       "    .dataframe tbody tr th {\n",
       "        vertical-align: top;\n",
       "    }\n",
       "\n",
       "    .dataframe thead th {\n",
       "        text-align: right;\n",
       "    }\n",
       "</style>\n",
       "<table border=\"1\" class=\"dataframe\">\n",
       "  <thead>\n",
       "    <tr style=\"text-align: right;\">\n",
       "      <th></th>\n",
       "      <th>STATISTIC</th>\n",
       "      <th>Statistic Label</th>\n",
       "      <th>TLIST(W1)</th>\n",
       "      <th>Year</th>\n",
       "      <th>C03910V04662</th>\n",
       "      <th>Transport Traffic Site</th>\n",
       "      <th>C01198V01436</th>\n",
       "      <th>Weeks of the year</th>\n",
       "      <th>UNIT</th>\n",
       "      <th>VALUE</th>\n",
       "    </tr>\n",
       "  </thead>\n",
       "  <tbody>\n",
       "    <tr>\n",
       "      <th>0</th>\n",
       "      <td>THA22C01</td>\n",
       "      <td>Average weekly volume of heavy goods vehicles</td>\n",
       "      <td>2019</td>\n",
       "      <td>2019</td>\n",
       "      <td>10</td>\n",
       "      <td>Selected traffic sites - Dublin</td>\n",
       "      <td>1</td>\n",
       "      <td>Week 01</td>\n",
       "      <td>Number</td>\n",
       "      <td>23838.0</td>\n",
       "    </tr>\n",
       "    <tr>\n",
       "      <th>1</th>\n",
       "      <td>THA22C01</td>\n",
       "      <td>Average weekly volume of heavy goods vehicles</td>\n",
       "      <td>2019</td>\n",
       "      <td>2019</td>\n",
       "      <td>10</td>\n",
       "      <td>Selected traffic sites - Dublin</td>\n",
       "      <td>2</td>\n",
       "      <td>Week 02</td>\n",
       "      <td>Number</td>\n",
       "      <td>38353.0</td>\n",
       "    </tr>\n",
       "    <tr>\n",
       "      <th>2</th>\n",
       "      <td>THA22C01</td>\n",
       "      <td>Average weekly volume of heavy goods vehicles</td>\n",
       "      <td>2019</td>\n",
       "      <td>2019</td>\n",
       "      <td>10</td>\n",
       "      <td>Selected traffic sites - Dublin</td>\n",
       "      <td>3</td>\n",
       "      <td>Week 03</td>\n",
       "      <td>Number</td>\n",
       "      <td>39973.0</td>\n",
       "    </tr>\n",
       "    <tr>\n",
       "      <th>3</th>\n",
       "      <td>THA22C01</td>\n",
       "      <td>Average weekly volume of heavy goods vehicles</td>\n",
       "      <td>2019</td>\n",
       "      <td>2019</td>\n",
       "      <td>10</td>\n",
       "      <td>Selected traffic sites - Dublin</td>\n",
       "      <td>4</td>\n",
       "      <td>Week 04</td>\n",
       "      <td>Number</td>\n",
       "      <td>40314.0</td>\n",
       "    </tr>\n",
       "    <tr>\n",
       "      <th>4</th>\n",
       "      <td>THA22C01</td>\n",
       "      <td>Average weekly volume of heavy goods vehicles</td>\n",
       "      <td>2019</td>\n",
       "      <td>2019</td>\n",
       "      <td>10</td>\n",
       "      <td>Selected traffic sites - Dublin</td>\n",
       "      <td>5</td>\n",
       "      <td>Week 05</td>\n",
       "      <td>Number</td>\n",
       "      <td>40709.0</td>\n",
       "    </tr>\n",
       "  </tbody>\n",
       "</table>\n",
       "</div>"
      ],
      "text/plain": [
       "  STATISTIC                                Statistic Label  TLIST(W1)  Year  \\\n",
       "0  THA22C01  Average weekly volume of heavy goods vehicles       2019  2019   \n",
       "1  THA22C01  Average weekly volume of heavy goods vehicles       2019  2019   \n",
       "2  THA22C01  Average weekly volume of heavy goods vehicles       2019  2019   \n",
       "3  THA22C01  Average weekly volume of heavy goods vehicles       2019  2019   \n",
       "4  THA22C01  Average weekly volume of heavy goods vehicles       2019  2019   \n",
       "\n",
       "   C03910V04662           Transport Traffic Site  C01198V01436  \\\n",
       "0            10  Selected traffic sites - Dublin             1   \n",
       "1            10  Selected traffic sites - Dublin             2   \n",
       "2            10  Selected traffic sites - Dublin             3   \n",
       "3            10  Selected traffic sites - Dublin             4   \n",
       "4            10  Selected traffic sites - Dublin             5   \n",
       "\n",
       "  Weeks of the year    UNIT    VALUE  \n",
       "0           Week 01  Number  23838.0  \n",
       "1           Week 02  Number  38353.0  \n",
       "2           Week 03  Number  39973.0  \n",
       "3           Week 04  Number  40314.0  \n",
       "4           Week 05  Number  40709.0  "
      ]
     },
     "execution_count": 35,
     "metadata": {},
     "output_type": "execute_result"
    }
   ],
   "source": [
    "weekly_hgv.head()"
   ]
  },
  {
   "cell_type": "code",
   "execution_count": 38,
   "metadata": {},
   "outputs": [
    {
     "data": {
      "text/plain": [
       "(424, 10)"
      ]
     },
     "execution_count": 38,
     "metadata": {},
     "output_type": "execute_result"
    }
   ],
   "source": [
    "weekly_hgv.shape"
   ]
  },
  {
   "cell_type": "code",
   "execution_count": 39,
   "metadata": {},
   "outputs": [],
   "source": [
    "# drop columns\n",
    "weekly_cars.drop(columns=['STATISTIC','TLIST(W1)', 'UNIT','Weeks of the year'], inplace=True)\n",
    "weekly_hgv.drop(columns=['STATISTIC','TLIST(W1)', 'UNIT','Weeks of the year'], inplace=True)"
   ]
  },
  {
   "cell_type": "code",
   "execution_count": 40,
   "metadata": {},
   "outputs": [
    {
     "data": {
      "text/html": [
       "<div>\n",
       "<style scoped>\n",
       "    .dataframe tbody tr th:only-of-type {\n",
       "        vertical-align: middle;\n",
       "    }\n",
       "\n",
       "    .dataframe tbody tr th {\n",
       "        vertical-align: top;\n",
       "    }\n",
       "\n",
       "    .dataframe thead th {\n",
       "        text-align: right;\n",
       "    }\n",
       "</style>\n",
       "<table border=\"1\" class=\"dataframe\">\n",
       "  <thead>\n",
       "    <tr style=\"text-align: right;\">\n",
       "      <th></th>\n",
       "      <th>Statistic Label</th>\n",
       "      <th>Year</th>\n",
       "      <th>Site Id</th>\n",
       "      <th>Transport Traffic Site</th>\n",
       "      <th>Week Number</th>\n",
       "      <th>Volume</th>\n",
       "    </tr>\n",
       "  </thead>\n",
       "  <tbody>\n",
       "    <tr>\n",
       "      <th>0</th>\n",
       "      <td>Average weekly volume of cars</td>\n",
       "      <td>2019</td>\n",
       "      <td>10</td>\n",
       "      <td>Selected traffic sites - Dublin</td>\n",
       "      <td>1</td>\n",
       "      <td>463064.0</td>\n",
       "    </tr>\n",
       "    <tr>\n",
       "      <th>1</th>\n",
       "      <td>Average weekly volume of cars</td>\n",
       "      <td>2019</td>\n",
       "      <td>10</td>\n",
       "      <td>Selected traffic sites - Dublin</td>\n",
       "      <td>2</td>\n",
       "      <td>534609.0</td>\n",
       "    </tr>\n",
       "    <tr>\n",
       "      <th>2</th>\n",
       "      <td>Average weekly volume of cars</td>\n",
       "      <td>2019</td>\n",
       "      <td>10</td>\n",
       "      <td>Selected traffic sites - Dublin</td>\n",
       "      <td>3</td>\n",
       "      <td>549470.0</td>\n",
       "    </tr>\n",
       "    <tr>\n",
       "      <th>3</th>\n",
       "      <td>Average weekly volume of cars</td>\n",
       "      <td>2019</td>\n",
       "      <td>10</td>\n",
       "      <td>Selected traffic sites - Dublin</td>\n",
       "      <td>4</td>\n",
       "      <td>550892.0</td>\n",
       "    </tr>\n",
       "    <tr>\n",
       "      <th>4</th>\n",
       "      <td>Average weekly volume of cars</td>\n",
       "      <td>2019</td>\n",
       "      <td>10</td>\n",
       "      <td>Selected traffic sites - Dublin</td>\n",
       "      <td>5</td>\n",
       "      <td>543468.0</td>\n",
       "    </tr>\n",
       "  </tbody>\n",
       "</table>\n",
       "</div>"
      ],
      "text/plain": [
       "                 Statistic Label  Year  Site Id  \\\n",
       "0  Average weekly volume of cars  2019       10   \n",
       "1  Average weekly volume of cars  2019       10   \n",
       "2  Average weekly volume of cars  2019       10   \n",
       "3  Average weekly volume of cars  2019       10   \n",
       "4  Average weekly volume of cars  2019       10   \n",
       "\n",
       "            Transport Traffic Site  Week Number    Volume  \n",
       "0  Selected traffic sites - Dublin            1  463064.0  \n",
       "1  Selected traffic sites - Dublin            2  534609.0  \n",
       "2  Selected traffic sites - Dublin            3  549470.0  \n",
       "3  Selected traffic sites - Dublin            4  550892.0  \n",
       "4  Selected traffic sites - Dublin            5  543468.0  "
      ]
     },
     "execution_count": 40,
     "metadata": {},
     "output_type": "execute_result"
    }
   ],
   "source": [
    "# rename columns\n",
    "weekly_cars.rename({'C03910V04662':'Site Id', 'C01198V01436':'Week Number','VALUE': 'Volume'}, axis=1, inplace=True)\n",
    "weekly_hgv.rename({'C03910V04662':'Site Id', 'C01198V01436':'Week Number','VALUE': 'Volume'}, axis=1, inplace=True)\n",
    "weekly_cars.head()"
   ]
  },
  {
   "cell_type": "code",
   "execution_count": 41,
   "metadata": {},
   "outputs": [
    {
     "data": {
      "text/plain": [
       "Selected traffic sites - Dublin      212\n",
       "Selected traffic sites - Regional    212\n",
       "Name: Transport Traffic Site, dtype: int64"
      ]
     },
     "execution_count": 41,
     "metadata": {},
     "output_type": "execute_result"
    }
   ],
   "source": [
    "weekly_cars['Transport Traffic Site'].value_counts()"
   ]
  },
  {
   "cell_type": "code",
   "execution_count": 42,
   "metadata": {},
   "outputs": [
    {
     "data": {
      "text/html": [
       "<div>\n",
       "<style scoped>\n",
       "    .dataframe tbody tr th:only-of-type {\n",
       "        vertical-align: middle;\n",
       "    }\n",
       "\n",
       "    .dataframe tbody tr th {\n",
       "        vertical-align: top;\n",
       "    }\n",
       "\n",
       "    .dataframe thead th {\n",
       "        text-align: right;\n",
       "    }\n",
       "</style>\n",
       "<table border=\"1\" class=\"dataframe\">\n",
       "  <thead>\n",
       "    <tr style=\"text-align: right;\">\n",
       "      <th></th>\n",
       "      <th>Statistic Label</th>\n",
       "      <th>Year</th>\n",
       "      <th>Site Id</th>\n",
       "      <th>Transport Traffic Site</th>\n",
       "      <th>Week Number</th>\n",
       "      <th>Volume</th>\n",
       "    </tr>\n",
       "  </thead>\n",
       "  <tbody>\n",
       "    <tr>\n",
       "      <th>0</th>\n",
       "      <td>Average weekly volume of heavy goods vehicles</td>\n",
       "      <td>2019</td>\n",
       "      <td>10</td>\n",
       "      <td>Selected traffic sites - Dublin</td>\n",
       "      <td>1</td>\n",
       "      <td>23838.0</td>\n",
       "    </tr>\n",
       "    <tr>\n",
       "      <th>1</th>\n",
       "      <td>Average weekly volume of heavy goods vehicles</td>\n",
       "      <td>2019</td>\n",
       "      <td>10</td>\n",
       "      <td>Selected traffic sites - Dublin</td>\n",
       "      <td>2</td>\n",
       "      <td>38353.0</td>\n",
       "    </tr>\n",
       "    <tr>\n",
       "      <th>2</th>\n",
       "      <td>Average weekly volume of heavy goods vehicles</td>\n",
       "      <td>2019</td>\n",
       "      <td>10</td>\n",
       "      <td>Selected traffic sites - Dublin</td>\n",
       "      <td>3</td>\n",
       "      <td>39973.0</td>\n",
       "    </tr>\n",
       "    <tr>\n",
       "      <th>3</th>\n",
       "      <td>Average weekly volume of heavy goods vehicles</td>\n",
       "      <td>2019</td>\n",
       "      <td>10</td>\n",
       "      <td>Selected traffic sites - Dublin</td>\n",
       "      <td>4</td>\n",
       "      <td>40314.0</td>\n",
       "    </tr>\n",
       "    <tr>\n",
       "      <th>4</th>\n",
       "      <td>Average weekly volume of heavy goods vehicles</td>\n",
       "      <td>2019</td>\n",
       "      <td>10</td>\n",
       "      <td>Selected traffic sites - Dublin</td>\n",
       "      <td>5</td>\n",
       "      <td>40709.0</td>\n",
       "    </tr>\n",
       "  </tbody>\n",
       "</table>\n",
       "</div>"
      ],
      "text/plain": [
       "                                 Statistic Label  Year  Site Id  \\\n",
       "0  Average weekly volume of heavy goods vehicles  2019       10   \n",
       "1  Average weekly volume of heavy goods vehicles  2019       10   \n",
       "2  Average weekly volume of heavy goods vehicles  2019       10   \n",
       "3  Average weekly volume of heavy goods vehicles  2019       10   \n",
       "4  Average weekly volume of heavy goods vehicles  2019       10   \n",
       "\n",
       "            Transport Traffic Site  Week Number   Volume  \n",
       "0  Selected traffic sites - Dublin            1  23838.0  \n",
       "1  Selected traffic sites - Dublin            2  38353.0  \n",
       "2  Selected traffic sites - Dublin            3  39973.0  \n",
       "3  Selected traffic sites - Dublin            4  40314.0  \n",
       "4  Selected traffic sites - Dublin            5  40709.0  "
      ]
     },
     "execution_count": 42,
     "metadata": {},
     "output_type": "execute_result"
    }
   ],
   "source": [
    "weekly_hgv.head()"
   ]
  }
 ],
 "metadata": {
  "kernelspec": {
   "display_name": "Python 3.10.8 ('py10')",
   "language": "python",
   "name": "python3"
  },
  "language_info": {
   "codemirror_mode": {
    "name": "ipython",
    "version": 3
   },
   "file_extension": ".py",
   "mimetype": "text/x-python",
   "name": "python",
   "nbconvert_exporter": "python",
   "pygments_lexer": "ipython3",
   "version": "3.10.8"
  },
  "orig_nbformat": 4,
  "vscode": {
   "interpreter": {
    "hash": "6bb4cecdeb10d1f9f603c791fc62ce18f3450f0efe73b4175d3c9eb885b802d6"
   }
  }
 },
 "nbformat": 4,
 "nbformat_minor": 2
}
